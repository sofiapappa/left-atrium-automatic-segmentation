{
 "cells": [
  {
   "cell_type": "code",
   "execution_count": 1,
   "id": "540cf5ce",
   "metadata": {},
   "outputs": [],
   "source": [
    "%matplotlib notebook\n",
    "from pathlib import Path"
   ]
  },
  {
   "cell_type": "code",
   "execution_count": 13,
   "id": "73a6341c",
   "metadata": {},
   "outputs": [],
   "source": [
    "import nibabel as nib \n",
    "import numpy as np\n",
    "import matplotlib.pyplot as plt\n",
    "from tqdm.notebook import tqdm_notebook\n"
   ]
  },
  {
   "cell_type": "code",
   "execution_count": 10,
   "id": "dffbaa3b",
   "metadata": {},
   "outputs": [],
   "source": [
    "root = Path('/Users/rapapps1/Documents/Courses_online/Udemy/AI-IN-MEDICAL-MATERIALS/06-Atrium-Segmentation/left_atrium_segment/data/Task02_Heart/imagesTr')\n",
    "label_path = Path('/Users/rapapps1/Documents/Courses_online/Udemy/AI-IN-MEDICAL-MATERIALS/06-Atrium-Segmentation/left_atrium_segment/data/Task02_Heart/labelsTr')"
   ]
  },
  {
   "cell_type": "code",
   "execution_count": 8,
   "id": "eb149512",
   "metadata": {},
   "outputs": [],
   "source": [
    "save_root = Path(\"/Users/rapapps1/Documents/Courses_online/Udemy/AI-IN-MEDICAL-MATERIALS/06-Atrium-Segmentation/left_atrium_segment/data/processed\")"
   ]
  },
  {
   "cell_type": "code",
   "execution_count": 9,
   "id": "0d342650",
   "metadata": {},
   "outputs": [],
   "source": [
    "train_img_dir = save_root / \"train\" / \"images\"\n",
    "train_mask_dir = save_root / \"train\" / \"masks\"\n",
    "val_img_dir = save_root / \"val\" / \"images\"\n",
    "val_mask_dir = save_root / \"val\" / \"masks\"\n",
    "\n",
    "for dir_path in [train_img_dir, train_mask_dir, val_img_dir, val_mask_dir]:\n",
    "    dir_path.mkdir(parents=True, exist_ok=True)  # ← This creates the folders!"
   ]
  },
  {
   "cell_type": "code",
   "execution_count": 16,
   "id": "78b848fc",
   "metadata": {},
   "outputs": [
    {
     "name": "stdout",
     "output_type": "stream",
     "text": [
      "Inspecting: la_007.nii.gz\n",
      "MRI shape: (320, 320, 130)\n",
      "Mask shape: (320, 320, 130)\n",
      "MRI value range: 0.00 to 1873.00\n",
      "Mask unique values: [0 1]\n",
      "Slices with left atrium: 76/130\n"
     ]
    }
   ],
   "source": [
    "def inspect_sample_data():\n",
    "    \"\"\"Inspect one sample to understand the data\"\"\"\n",
    "    sample_files = list(root.glob(\"*.nii.gz\"))\n",
    "    if not sample_files:\n",
    "        print(\"No .nii.gz files found!\")\n",
    "        return\n",
    "    sample_image_path = sample_files[0]\n",
    "    sample_label_path = label_path/ sample_image_path.name\n",
    "\n",
    "    print(f\"Inspecting: {sample_image_path.name}\")\n",
    "\n",
    "    #load data\n",
    "    mri_data = nib.load(sample_image_path).get_fdata()\n",
    "    mask_data = nib.load(sample_label_path).get_fdata().astype(np.uint8)\n",
    "\n",
    "    print(f\"MRI shape: {mri_data.shape}\")\n",
    "    print(f\"Mask shape: {mask_data.shape}\")\n",
    "    print(f\"MRI value range: {mri_data.min():.2f} to {mri_data.max():.2f}\")\n",
    "    print(f\"Mask unique values: {np.unique(mask_data)}\")\n",
    "\n",
    "    # Check how many slices have actual masks\n",
    "    slices_with_mask = 0\n",
    "    for i in range(mask_data.shape[2]):\n",
    "        if mask_data[:,:,i].sum() > 0:\n",
    "            slices_with_mask += 1\n",
    "    \n",
    "    print(f\"Slices with left atrium: {slices_with_mask}/{mask_data.shape[2]}\")\n",
    "    \n",
    "\n",
    "\n",
    "inspect_sample_data()"
   ]
  },
  {
   "cell_type": "code",
   "execution_count": null,
   "id": "55edcfe8",
   "metadata": {},
   "outputs": [],
   "source": []
  }
 ],
 "metadata": {
  "kernelspec": {
   "display_name": "la_segn_env",
   "language": "python",
   "name": "python3"
  },
  "language_info": {
   "codemirror_mode": {
    "name": "ipython",
    "version": 3
   },
   "file_extension": ".py",
   "mimetype": "text/x-python",
   "name": "python",
   "nbconvert_exporter": "python",
   "pygments_lexer": "ipython3",
   "version": "3.10.14"
  }
 },
 "nbformat": 4,
 "nbformat_minor": 5
}
